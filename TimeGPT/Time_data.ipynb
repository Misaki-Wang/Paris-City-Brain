{
 "cells": [
  {
   "cell_type": "code",
   "execution_count": 1,
   "metadata": {},
   "outputs": [],
   "source": [
    "import pandas as pd"
   ]
  },
  {
   "cell_type": "code",
   "execution_count": 4,
   "metadata": {},
   "outputs": [],
   "source": [
    "file_1 = '/media/ssd4t/misaki/Paris-City-Brain-Traffic-Flow-Forecasting/TimeGPT/data/forecasts_1_2000.csv'\n",
    "file_2 = '/media/ssd4t/misaki/Paris-City-Brain-Traffic-Flow-Forecasting/TimeGPT/data/forecasts_2001_3000.csv'\n",
    "file_3 = '/media/ssd4t/misaki/Paris-City-Brain-Traffic-Flow-Forecasting/TimeGPT/data/forecasts_3001_4000.csv'\n",
    "file_4 = '/media/ssd4t/misaki/Paris-City-Brain-Traffic-Flow-Forecasting/TimeGPT/data/forecasts_4001_5000.csv'\n",
    "file_merged = '/media/ssd4t/misaki/Paris-City-Brain-Traffic-Flow-Forecasting/TimeGPT/data/forecasts_1_5000.csv'\n",
    "\n",
    "df_1 = pd.read_csv(file_1)\n",
    "df_2 = pd.read_csv(file_2)\n",
    "df_3 = pd.read_csv(file_3)\n",
    "df_4 = pd.read_csv(file_4)"
   ]
  },
  {
   "cell_type": "code",
   "execution_count": 5,
   "metadata": {},
   "outputs": [
    {
     "name": "stdout",
     "output_type": "stream",
     "text": [
      "(5000, 3)\n",
      "Merged DataFrame has been saved to '/media/ssd4t/misaki/Paris-City-Brain-Traffic-Flow-Forecasting/TimeGPT/data/forecasts_1_5000.csv'.\n"
     ]
    }
   ],
   "source": [
    "# Concatenate the DataFrames\n",
    "df_merged = pd.concat([df_1, df_2,\n",
    "                       df_3, df_4\n",
    "                       ], ignore_index=True)\n",
    "print(df_merged.shape)\n",
    "# Save the merged DataFrame to a new CSV file\n",
    "df_merged.to_csv(file_merged, index=False)\n",
    "\n",
    "print(f\"Merged DataFrame has been saved to '{file_merged}'.\")"
   ]
  },
  {
   "cell_type": "code",
   "execution_count": 10,
   "metadata": {},
   "outputs": [
    {
     "data": {
      "text/plain": [
       "(2000, 3)"
      ]
     },
     "execution_count": 10,
     "metadata": {},
     "output_type": "execute_result"
    }
   ],
   "source": [
    "df_merged.shape"
   ]
  },
  {
   "cell_type": "code",
   "execution_count": 11,
   "metadata": {},
   "outputs": [
    {
     "data": {
      "text/html": [
       "<div>\n",
       "<style scoped>\n",
       "    .dataframe tbody tr th:only-of-type {\n",
       "        vertical-align: middle;\n",
       "    }\n",
       "\n",
       "    .dataframe tbody tr th {\n",
       "        vertical-align: top;\n",
       "    }\n",
       "\n",
       "    .dataframe thead th {\n",
       "        text-align: right;\n",
       "    }\n",
       "</style>\n",
       "<table border=\"1\" class=\"dataframe\">\n",
       "  <thead>\n",
       "    <tr style=\"text-align: right;\">\n",
       "      <th></th>\n",
       "      <th>id</th>\n",
       "      <th>t_1h</th>\n",
       "      <th>TimeGPT</th>\n",
       "    </tr>\n",
       "  </thead>\n",
       "  <tbody>\n",
       "    <tr>\n",
       "      <th>0</th>\n",
       "      <td>1</td>\n",
       "      <td>2023-01-02</td>\n",
       "      <td>1195.937866</td>\n",
       "    </tr>\n",
       "    <tr>\n",
       "      <th>1</th>\n",
       "      <td>2</td>\n",
       "      <td>2023-01-03 05:00:00</td>\n",
       "      <td>229.137558</td>\n",
       "    </tr>\n",
       "    <tr>\n",
       "      <th>2</th>\n",
       "      <td>3</td>\n",
       "      <td>2023-01-04 10:00:00</td>\n",
       "      <td>1469.908813</td>\n",
       "    </tr>\n",
       "    <tr>\n",
       "      <th>3</th>\n",
       "      <td>4</td>\n",
       "      <td>2023-01-05 15:00:00</td>\n",
       "      <td>1489.043457</td>\n",
       "    </tr>\n",
       "    <tr>\n",
       "      <th>4</th>\n",
       "      <td>5</td>\n",
       "      <td>2023-01-06 20:00:00</td>\n",
       "      <td>1894.736206</td>\n",
       "    </tr>\n",
       "  </tbody>\n",
       "</table>\n",
       "</div>"
      ],
      "text/plain": [
       "   id                 t_1h      TimeGPT\n",
       "0   1           2023-01-02  1195.937866\n",
       "1   2  2023-01-03 05:00:00   229.137558\n",
       "2   3  2023-01-04 10:00:00  1469.908813\n",
       "3   4  2023-01-05 15:00:00  1489.043457\n",
       "4   5  2023-01-06 20:00:00  1894.736206"
      ]
     },
     "execution_count": 11,
     "metadata": {},
     "output_type": "execute_result"
    }
   ],
   "source": [
    "df_merged.head()"
   ]
  },
  {
   "cell_type": "code",
   "execution_count": 3,
   "metadata": {},
   "outputs": [],
   "source": [
    "file_to_sort = '/media/ssd4t/misaki/Paris-City-Brain-Traffic-Flow-Forecasting/TimeGPT/data/forecasts_2001_3000.csv'\n",
    "df_sort = pd.read_csv(file_to_sort)\n",
    "df_sort.iloc[-30:, df_sort.columns.get_loc('id')] = range(2971, 2971 + 30)\n",
    "df_sort.to_csv(file_to_sort, index=False)"
   ]
  },
  {
   "cell_type": "code",
   "execution_count": 9,
   "metadata": {},
   "outputs": [
    {
     "name": "stdout",
     "output_type": "stream",
     "text": [
      "File has been updated with new ids starting from 2001.\n"
     ]
    }
   ],
   "source": [
    "file_to_sort = '/media/ssd4t/misaki/Paris-City-Brain-Traffic-Flow-Forecasting/TimeGPT/data/forecasts_4001_5000.csv'\n",
    "start = 4001\n",
    "df_sort = pd.read_csv(file_to_sort)\n",
    "# Drop the original 'id' column if it exists\n",
    "if 'id' in df_sort.columns:\n",
    "    df_sort.drop(columns=['id'], inplace=True)\n",
    "\n",
    "# Reset the index and update it to start from 2001\n",
    "df_sort.reset_index(drop=True, inplace=True)\n",
    "df_sort.index += start\n",
    "# Save the updated DataFrame back to a CSV file\n",
    "df_sort.to_csv(file_to_sort, index=True, index_label='id')\n",
    "\n",
    "print(\"File has been updated with new ids.\")"
   ]
  },
  {
   "cell_type": "code",
   "execution_count": 7,
   "metadata": {},
   "outputs": [],
   "source": [
    "df_sort.drop(columns=['id.2'], inplace=True)\n",
    "df_sort.to_csv(file_to_sort, index=True, index_label='id')"
   ]
  },
  {
   "cell_type": "code",
   "execution_count": 6,
   "metadata": {},
   "outputs": [
    {
     "data": {
      "text/plain": [
       "(304, 16)"
      ]
     },
     "execution_count": 6,
     "metadata": {},
     "output_type": "execute_result"
    }
   ],
   "source": [
    "filtered_df = df[(df['iu_ac'] == 5)]\n",
    "filtered_df.shape"
   ]
  },
  {
   "cell_type": "code",
   "execution_count": 2,
   "metadata": {},
   "outputs": [],
   "source": [
    "# 读取CSV文件\n",
    "df = pd.read_csv('/media/ssd4t/misaki/Paris-City-Brain-Traffic-Flow-Forecasting/data/loop_sensor_train.csv')\n"
   ]
  },
  {
   "cell_type": "code",
   "execution_count": 11,
   "metadata": {},
   "outputs": [
    {
     "data": {
      "text/html": [
       "<div>\n",
       "<style scoped>\n",
       "    .dataframe tbody tr th:only-of-type {\n",
       "        vertical-align: middle;\n",
       "    }\n",
       "\n",
       "    .dataframe tbody tr th {\n",
       "        vertical-align: top;\n",
       "    }\n",
       "\n",
       "    .dataframe thead th {\n",
       "        text-align: right;\n",
       "    }\n",
       "</style>\n",
       "<table border=\"1\" class=\"dataframe\">\n",
       "  <thead>\n",
       "    <tr style=\"text-align: right;\">\n",
       "      <th></th>\n",
       "      <th>iu_ac</th>\n",
       "      <th>t_1h</th>\n",
       "      <th>etat_barre</th>\n",
       "      <th>q</th>\n",
       "    </tr>\n",
       "  </thead>\n",
       "  <tbody>\n",
       "    <tr>\n",
       "      <th>22468145</th>\n",
       "      <td>5</td>\n",
       "      <td>2022-12-20 19:00:00</td>\n",
       "      <td>3</td>\n",
       "      <td>1537.0</td>\n",
       "    </tr>\n",
       "    <tr>\n",
       "      <th>22468146</th>\n",
       "      <td>5</td>\n",
       "      <td>2022-12-20 20:00:00</td>\n",
       "      <td>3</td>\n",
       "      <td>1541.0</td>\n",
       "    </tr>\n",
       "    <tr>\n",
       "      <th>22468147</th>\n",
       "      <td>5</td>\n",
       "      <td>2022-12-20 21:00:00</td>\n",
       "      <td>3</td>\n",
       "      <td>1656.0</td>\n",
       "    </tr>\n",
       "    <tr>\n",
       "      <th>22468148</th>\n",
       "      <td>5</td>\n",
       "      <td>2022-12-20 22:00:00</td>\n",
       "      <td>3</td>\n",
       "      <td>1472.0</td>\n",
       "    </tr>\n",
       "    <tr>\n",
       "      <th>22468149</th>\n",
       "      <td>5</td>\n",
       "      <td>2022-12-20 23:00:00</td>\n",
       "      <td>3</td>\n",
       "      <td>1373.0</td>\n",
       "    </tr>\n",
       "  </tbody>\n",
       "</table>\n",
       "</div>"
      ],
      "text/plain": [
       "          iu_ac                 t_1h  etat_barre       q\n",
       "22468145      5  2022-12-20 19:00:00           3  1537.0\n",
       "22468146      5  2022-12-20 20:00:00           3  1541.0\n",
       "22468147      5  2022-12-20 21:00:00           3  1656.0\n",
       "22468148      5  2022-12-20 22:00:00           3  1472.0\n",
       "22468149      5  2022-12-20 23:00:00           3  1373.0"
      ]
     },
     "execution_count": 11,
     "metadata": {},
     "output_type": "execute_result"
    }
   ],
   "source": [
    "# 过滤出iu_ac为5且t_1h在2022-01-01到2022-12-31之间的数据\n",
    "filtered_df = df[(df['iu_ac'] == 5) & (df['t_1h'] >= '2022-01-01') & (df['t_1h'] <= '2022-12-31')]\n",
    "filtered_df.tail()"
   ]
  },
  {
   "cell_type": "code",
   "execution_count": 4,
   "metadata": {},
   "outputs": [
    {
     "data": {
      "text/plain": [
       "(7752, 4)"
      ]
     },
     "execution_count": 4,
     "metadata": {},
     "output_type": "execute_result"
    }
   ],
   "source": [
    "filtered_df.shape"
   ]
  },
  {
   "cell_type": "code",
   "execution_count": null,
   "metadata": {},
   "outputs": [],
   "source": [
    "df = pd.read_csv('./data/loop_sensor_test_x_with_q_12.csv')\n",
    "\n",
    "# 将 t_1h 列转换为日期时间格式\n",
    "df['t_1h'] = pd.to_datetime(df['t_1h'])\n",
    "# 初始化一个空的列表来存储展平的数据\n",
    "flattened_data = []\n",
    "\n",
    "# 遍历每一行数据\n",
    "for index, row in df.iterrows():\n",
    "    # 依次读取q1到q12，并展开为12条数据\n",
    "    for i in range(1, 13):\n",
    "        flattened_data.append({\n",
    "            'id': row['id'],\n",
    "            'iu_ac': row['iu_ac'],\n",
    "            't_1h': row['t_1h'] - pd.Timedelta(hours=13-i),\n",
    "            'etat_barre': row['etat_barre'],\n",
    "            'q': row[f'q{i}']\n",
    "        })\n",
    "\n",
    "# 将展平的数据转换为DataFrame\n",
    "flatten_df = pd.DataFrame(flattened_data)\n",
    "\n",
    "# 保存为新的CSV文件\n",
    "flatten_df.to_csv('./data/flattened_loop_sensor_test_12h.csv', index=False)\n",
    "\n",
    "# 打印展平后的数据框\n",
    "print(flatten_df.head(13))\n"
   ]
  },
  {
   "cell_type": "code",
   "execution_count": 5,
   "metadata": {},
   "outputs": [],
   "source": [
    "import os\n",
    "if not os.path.exists('data'):\n",
    "    os.mkdir('data')"
   ]
  },
  {
   "cell_type": "code",
   "execution_count": 6,
   "metadata": {},
   "outputs": [],
   "source": [
    "# 保存为新的CSV文件2022-12-31之间的数据\n",
    "filtered_df.to_csv('./data/5_2022_1_2022_12.csv', index=False)\n"
   ]
  },
  {
   "cell_type": "code",
   "execution_count": 13,
   "metadata": {},
   "outputs": [
    {
     "data": {
      "text/plain": [
       "(716, 4)"
      ]
     },
     "execution_count": 13,
     "metadata": {},
     "output_type": "execute_result"
    }
   ],
   "source": [
    "filtered_df_1 = df[(df['iu_ac'] == 5) & (df['t_1h'] >= '2022-01-01') & (df['t_1h'] <= '2022-01-31')]\n",
    "filtered_df_1.shape"
   ]
  },
  {
   "cell_type": "code",
   "execution_count": 14,
   "metadata": {},
   "outputs": [],
   "source": [
    "filtered_df_1.to_csv('./data/5_2022_1.csv', index=False)"
   ]
  },
  {
   "cell_type": "code",
   "execution_count": 15,
   "metadata": {},
   "outputs": [
    {
     "data": {
      "text/plain": [
       "(643, 4)"
      ]
     },
     "execution_count": 15,
     "metadata": {},
     "output_type": "execute_result"
    }
   ],
   "source": [
    "filtered_df_2 = df[(df['iu_ac'] == 5) & (df['t_1h'] >= '2022-02-01') & (df['t_1h'] <= '2022-02-28')]\n",
    "filtered_df_2.shape"
   ]
  },
  {
   "cell_type": "code",
   "execution_count": 16,
   "metadata": {},
   "outputs": [],
   "source": [
    "filtered_df_2.to_csv('./data/5_2022_2.csv', index=False)"
   ]
  }
 ],
 "metadata": {
  "kernelspec": {
   "display_name": "traffic",
   "language": "python",
   "name": "python3"
  },
  "language_info": {
   "codemirror_mode": {
    "name": "ipython",
    "version": 3
   },
   "file_extension": ".py",
   "mimetype": "text/x-python",
   "name": "python",
   "nbconvert_exporter": "python",
   "pygments_lexer": "ipython3",
   "version": "3.9.19"
  }
 },
 "nbformat": 4,
 "nbformat_minor": 2
}
