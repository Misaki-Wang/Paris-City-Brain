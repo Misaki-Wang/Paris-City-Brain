{
 "cells": [
  {
   "cell_type": "code",
   "execution_count": 1,
   "metadata": {},
   "outputs": [],
   "source": [
    "import pandas as pd"
   ]
  },
  {
   "cell_type": "code",
   "execution_count": 2,
   "metadata": {},
   "outputs": [],
   "source": [
    "df = pd.read_csv('./data/loop_sensor_test_x_with_q_12.csv')"
   ]
  },
  {
   "cell_type": "code",
   "execution_count": 3,
   "metadata": {},
   "outputs": [
    {
     "data": {
      "text/plain": [
       "(439298, 16)"
      ]
     },
     "execution_count": 3,
     "metadata": {},
     "output_type": "execute_result"
    }
   ],
   "source": [
    "df.shape"
   ]
  },
  {
   "cell_type": "code",
   "execution_count": 4,
   "metadata": {},
   "outputs": [
    {
     "data": {
      "text/html": [
       "<div>\n",
       "<style scoped>\n",
       "    .dataframe tbody tr th:only-of-type {\n",
       "        vertical-align: middle;\n",
       "    }\n",
       "\n",
       "    .dataframe tbody tr th {\n",
       "        vertical-align: top;\n",
       "    }\n",
       "\n",
       "    .dataframe thead th {\n",
       "        text-align: right;\n",
       "    }\n",
       "</style>\n",
       "<table border=\"1\" class=\"dataframe\">\n",
       "  <thead>\n",
       "    <tr style=\"text-align: right;\">\n",
       "      <th></th>\n",
       "      <th>id</th>\n",
       "      <th>iu_ac</th>\n",
       "      <th>t_1h</th>\n",
       "      <th>etat_barre</th>\n",
       "      <th>q1</th>\n",
       "      <th>q2</th>\n",
       "      <th>q3</th>\n",
       "      <th>q4</th>\n",
       "      <th>q5</th>\n",
       "      <th>q6</th>\n",
       "      <th>q7</th>\n",
       "      <th>q8</th>\n",
       "      <th>q9</th>\n",
       "      <th>q10</th>\n",
       "      <th>q11</th>\n",
       "      <th>q12</th>\n",
       "    </tr>\n",
       "  </thead>\n",
       "  <tbody>\n",
       "    <tr>\n",
       "      <th>0</th>\n",
       "      <td>1</td>\n",
       "      <td>5</td>\n",
       "      <td>2023-01-02 00:00:00</td>\n",
       "      <td>3</td>\n",
       "      <td>1419.0</td>\n",
       "      <td>1456.0</td>\n",
       "      <td>1392.0</td>\n",
       "      <td>1413.0</td>\n",
       "      <td>1379.0</td>\n",
       "      <td>1488.0</td>\n",
       "      <td>1552.0</td>\n",
       "      <td>1493.0</td>\n",
       "      <td>1505.0</td>\n",
       "      <td>1310.0</td>\n",
       "      <td>1288.0</td>\n",
       "      <td>1184.0</td>\n",
       "    </tr>\n",
       "    <tr>\n",
       "      <th>1</th>\n",
       "      <td>2</td>\n",
       "      <td>5</td>\n",
       "      <td>2023-01-03 05:00:00</td>\n",
       "      <td>3</td>\n",
       "      <td>1603.0</td>\n",
       "      <td>1815.0</td>\n",
       "      <td>1727.0</td>\n",
       "      <td>1451.0</td>\n",
       "      <td>1341.0</td>\n",
       "      <td>1302.0</td>\n",
       "      <td>1164.0</td>\n",
       "      <td>940.0</td>\n",
       "      <td>622.0</td>\n",
       "      <td>349.0</td>\n",
       "      <td>259.0</td>\n",
       "      <td>273.0</td>\n",
       "    </tr>\n",
       "    <tr>\n",
       "      <th>2</th>\n",
       "      <td>3</td>\n",
       "      <td>5</td>\n",
       "      <td>2023-01-04 10:00:00</td>\n",
       "      <td>3</td>\n",
       "      <td>1304.0</td>\n",
       "      <td>1144.0</td>\n",
       "      <td>866.0</td>\n",
       "      <td>622.0</td>\n",
       "      <td>399.0</td>\n",
       "      <td>275.0</td>\n",
       "      <td>248.0</td>\n",
       "      <td>385.0</td>\n",
       "      <td>811.0</td>\n",
       "      <td>1303.0</td>\n",
       "      <td>1542.0</td>\n",
       "      <td>1495.0</td>\n",
       "    </tr>\n",
       "    <tr>\n",
       "      <th>3</th>\n",
       "      <td>4</td>\n",
       "      <td>5</td>\n",
       "      <td>2023-01-05 15:00:00</td>\n",
       "      <td>3</td>\n",
       "      <td>379.0</td>\n",
       "      <td>328.0</td>\n",
       "      <td>500.0</td>\n",
       "      <td>929.0</td>\n",
       "      <td>1383.0</td>\n",
       "      <td>1651.0</td>\n",
       "      <td>1804.0</td>\n",
       "      <td>1675.0</td>\n",
       "      <td>1744.0</td>\n",
       "      <td>1761.0</td>\n",
       "      <td>1800.0</td>\n",
       "      <td>1612.0</td>\n",
       "    </tr>\n",
       "    <tr>\n",
       "      <th>4</th>\n",
       "      <td>5</td>\n",
       "      <td>5</td>\n",
       "      <td>2023-01-06 20:00:00</td>\n",
       "      <td>3</td>\n",
       "      <td>1622.0</td>\n",
       "      <td>1688.0</td>\n",
       "      <td>1648.0</td>\n",
       "      <td>1646.0</td>\n",
       "      <td>1612.0</td>\n",
       "      <td>1700.0</td>\n",
       "      <td>1792.0</td>\n",
       "      <td>1513.0</td>\n",
       "      <td>1722.0</td>\n",
       "      <td>1842.0</td>\n",
       "      <td>1924.0</td>\n",
       "      <td>1948.0</td>\n",
       "    </tr>\n",
       "  </tbody>\n",
       "</table>\n",
       "</div>"
      ],
      "text/plain": [
       "   id  iu_ac                 t_1h  etat_barre      q1      q2      q3      q4  \\\n",
       "0   1      5  2023-01-02 00:00:00           3  1419.0  1456.0  1392.0  1413.0   \n",
       "1   2      5  2023-01-03 05:00:00           3  1603.0  1815.0  1727.0  1451.0   \n",
       "2   3      5  2023-01-04 10:00:00           3  1304.0  1144.0   866.0   622.0   \n",
       "3   4      5  2023-01-05 15:00:00           3   379.0   328.0   500.0   929.0   \n",
       "4   5      5  2023-01-06 20:00:00           3  1622.0  1688.0  1648.0  1646.0   \n",
       "\n",
       "       q5      q6      q7      q8      q9     q10     q11     q12  \n",
       "0  1379.0  1488.0  1552.0  1493.0  1505.0  1310.0  1288.0  1184.0  \n",
       "1  1341.0  1302.0  1164.0   940.0   622.0   349.0   259.0   273.0  \n",
       "2   399.0   275.0   248.0   385.0   811.0  1303.0  1542.0  1495.0  \n",
       "3  1383.0  1651.0  1804.0  1675.0  1744.0  1761.0  1800.0  1612.0  \n",
       "4  1612.0  1700.0  1792.0  1513.0  1722.0  1842.0  1924.0  1948.0  "
      ]
     },
     "execution_count": 4,
     "metadata": {},
     "output_type": "execute_result"
    }
   ],
   "source": [
    "df.head()"
   ]
  },
  {
   "cell_type": "code",
   "execution_count": 6,
   "metadata": {},
   "outputs": [
    {
     "data": {
      "text/plain": [
       "(304, 16)"
      ]
     },
     "execution_count": 6,
     "metadata": {},
     "output_type": "execute_result"
    }
   ],
   "source": [
    "filtered_df = df[(df['iu_ac'] == 5)]\n",
    "filtered_df.shape"
   ]
  },
  {
   "cell_type": "code",
   "execution_count": 2,
   "metadata": {},
   "outputs": [],
   "source": [
    "# 读取CSV文件\n",
    "df = pd.read_csv('/media/ssd4t/misaki/Paris-City-Brain-Traffic-Flow-Forecasting/data/loop_sensor_train.csv')\n"
   ]
  },
  {
   "cell_type": "code",
   "execution_count": 11,
   "metadata": {},
   "outputs": [
    {
     "data": {
      "text/html": [
       "<div>\n",
       "<style scoped>\n",
       "    .dataframe tbody tr th:only-of-type {\n",
       "        vertical-align: middle;\n",
       "    }\n",
       "\n",
       "    .dataframe tbody tr th {\n",
       "        vertical-align: top;\n",
       "    }\n",
       "\n",
       "    .dataframe thead th {\n",
       "        text-align: right;\n",
       "    }\n",
       "</style>\n",
       "<table border=\"1\" class=\"dataframe\">\n",
       "  <thead>\n",
       "    <tr style=\"text-align: right;\">\n",
       "      <th></th>\n",
       "      <th>iu_ac</th>\n",
       "      <th>t_1h</th>\n",
       "      <th>etat_barre</th>\n",
       "      <th>q</th>\n",
       "    </tr>\n",
       "  </thead>\n",
       "  <tbody>\n",
       "    <tr>\n",
       "      <th>22468145</th>\n",
       "      <td>5</td>\n",
       "      <td>2022-12-20 19:00:00</td>\n",
       "      <td>3</td>\n",
       "      <td>1537.0</td>\n",
       "    </tr>\n",
       "    <tr>\n",
       "      <th>22468146</th>\n",
       "      <td>5</td>\n",
       "      <td>2022-12-20 20:00:00</td>\n",
       "      <td>3</td>\n",
       "      <td>1541.0</td>\n",
       "    </tr>\n",
       "    <tr>\n",
       "      <th>22468147</th>\n",
       "      <td>5</td>\n",
       "      <td>2022-12-20 21:00:00</td>\n",
       "      <td>3</td>\n",
       "      <td>1656.0</td>\n",
       "    </tr>\n",
       "    <tr>\n",
       "      <th>22468148</th>\n",
       "      <td>5</td>\n",
       "      <td>2022-12-20 22:00:00</td>\n",
       "      <td>3</td>\n",
       "      <td>1472.0</td>\n",
       "    </tr>\n",
       "    <tr>\n",
       "      <th>22468149</th>\n",
       "      <td>5</td>\n",
       "      <td>2022-12-20 23:00:00</td>\n",
       "      <td>3</td>\n",
       "      <td>1373.0</td>\n",
       "    </tr>\n",
       "  </tbody>\n",
       "</table>\n",
       "</div>"
      ],
      "text/plain": [
       "          iu_ac                 t_1h  etat_barre       q\n",
       "22468145      5  2022-12-20 19:00:00           3  1537.0\n",
       "22468146      5  2022-12-20 20:00:00           3  1541.0\n",
       "22468147      5  2022-12-20 21:00:00           3  1656.0\n",
       "22468148      5  2022-12-20 22:00:00           3  1472.0\n",
       "22468149      5  2022-12-20 23:00:00           3  1373.0"
      ]
     },
     "execution_count": 11,
     "metadata": {},
     "output_type": "execute_result"
    }
   ],
   "source": [
    "# 过滤出iu_ac为5且t_1h在2022-01-01到2022-12-31之间的数据\n",
    "filtered_df = df[(df['iu_ac'] == 5) & (df['t_1h'] >= '2022-01-01') & (df['t_1h'] <= '2022-12-31')]\n",
    "filtered_df.tail()"
   ]
  },
  {
   "cell_type": "code",
   "execution_count": 4,
   "metadata": {},
   "outputs": [
    {
     "data": {
      "text/plain": [
       "(7752, 4)"
      ]
     },
     "execution_count": 4,
     "metadata": {},
     "output_type": "execute_result"
    }
   ],
   "source": [
    "filtered_df.shape"
   ]
  },
  {
   "cell_type": "code",
   "execution_count": null,
   "metadata": {},
   "outputs": [],
   "source": [
    "df = pd.read_csv('./data/loop_sensor_test_x_with_q_12.csv')\n",
    "\n",
    "# 将 t_1h 列转换为日期时间格式\n",
    "df['t_1h'] = pd.to_datetime(df['t_1h'])\n",
    "# 初始化一个空的列表来存储展平的数据\n",
    "flattened_data = []\n",
    "\n",
    "# 遍历每一行数据\n",
    "for index, row in df.iterrows():\n",
    "    # 依次读取q1到q12，并展开为12条数据\n",
    "    for i in range(1, 13):\n",
    "        flattened_data.append({\n",
    "            'id': row['id'],\n",
    "            'iu_ac': row['iu_ac'],\n",
    "            't_1h': row['t_1h'] - pd.Timedelta(hours=13-i),\n",
    "            'etat_barre': row['etat_barre'],\n",
    "            'q': row[f'q{i}']\n",
    "        })\n",
    "\n",
    "# 将展平的数据转换为DataFrame\n",
    "flatten_df = pd.DataFrame(flattened_data)\n",
    "\n",
    "# 保存为新的CSV文件\n",
    "flatten_df.to_csv('./data/flattened_loop_sensor_test_12h.csv', index=False)\n",
    "\n",
    "# 打印展平后的数据框\n",
    "print(flatten_df.head(13))\n"
   ]
  },
  {
   "cell_type": "code",
   "execution_count": 5,
   "metadata": {},
   "outputs": [],
   "source": [
    "import os\n",
    "if not os.path.exists('data'):\n",
    "    os.mkdir('data')"
   ]
  },
  {
   "cell_type": "code",
   "execution_count": 6,
   "metadata": {},
   "outputs": [],
   "source": [
    "# 保存为新的CSV文件2022-12-31之间的数据\n",
    "filtered_df.to_csv('./data/5_2022_1_2022_12.csv', index=False)\n"
   ]
  },
  {
   "cell_type": "code",
   "execution_count": 13,
   "metadata": {},
   "outputs": [
    {
     "data": {
      "text/plain": [
       "(716, 4)"
      ]
     },
     "execution_count": 13,
     "metadata": {},
     "output_type": "execute_result"
    }
   ],
   "source": [
    "filtered_df_1 = df[(df['iu_ac'] == 5) & (df['t_1h'] >= '2022-01-01') & (df['t_1h'] <= '2022-01-31')]\n",
    "filtered_df_1.shape"
   ]
  },
  {
   "cell_type": "code",
   "execution_count": 14,
   "metadata": {},
   "outputs": [],
   "source": [
    "filtered_df_1.to_csv('./data/5_2022_1.csv', index=False)"
   ]
  },
  {
   "cell_type": "code",
   "execution_count": 15,
   "metadata": {},
   "outputs": [
    {
     "data": {
      "text/plain": [
       "(643, 4)"
      ]
     },
     "execution_count": 15,
     "metadata": {},
     "output_type": "execute_result"
    }
   ],
   "source": [
    "filtered_df_2 = df[(df['iu_ac'] == 5) & (df['t_1h'] >= '2022-02-01') & (df['t_1h'] <= '2022-02-28')]\n",
    "filtered_df_2.shape"
   ]
  },
  {
   "cell_type": "code",
   "execution_count": 16,
   "metadata": {},
   "outputs": [],
   "source": [
    "filtered_df_2.to_csv('./data/5_2022_2.csv', index=False)"
   ]
  }
 ],
 "metadata": {
  "kernelspec": {
   "display_name": "traffic",
   "language": "python",
   "name": "python3"
  },
  "language_info": {
   "codemirror_mode": {
    "name": "ipython",
    "version": 3
   },
   "file_extension": ".py",
   "mimetype": "text/x-python",
   "name": "python",
   "nbconvert_exporter": "python",
   "pygments_lexer": "ipython3",
   "version": "3.9.19"
  }
 },
 "nbformat": 4,
 "nbformat_minor": 2
}
