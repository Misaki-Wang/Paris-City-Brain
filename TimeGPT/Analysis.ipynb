{
 "cells": [
  {
   "cell_type": "code",
   "execution_count": 1,
   "metadata": {},
   "outputs": [],
   "source": [
    "import pandas as pd\n",
    "from sklearn.metrics import mean_absolute_error"
   ]
  },
  {
   "cell_type": "code",
   "execution_count": 2,
   "metadata": {},
   "outputs": [
    {
     "name": "stdout",
     "output_type": "stream",
     "text": [
      "(5000, 3) (439298, 2)\n"
     ]
    }
   ],
   "source": [
    "forecast_file = '/media/ssd4t/misaki/Paris-City-Brain-Traffic-Flow-Forecasting/TimeGPT/data/forecasts_1_5000.csv'\n",
    "eval_file = '/media/ssd4t/misaki/Paris-City-Brain-Traffic-Flow-Forecasting/TimeGPT/data/submission_song.csv'\n",
    "# eval_file = './data/loop_sensor_test_baseline.csv'\n",
    "\n",
    "fcst_df = pd.read_csv(forecast_file)\n",
    "eval_df = pd.read_csv(eval_file)\n",
    "print(fcst_df.shape, eval_df.shape)"
   ]
  },
  {
   "cell_type": "code",
   "execution_count": 3,
   "metadata": {},
   "outputs": [
    {
     "name": "stdout",
     "output_type": "stream",
     "text": [
      "The Mean Absolute Error (MAE) is: 74.94557024745941\n"
     ]
    }
   ],
   "source": [
    "# Merge the DataFrames on the 'id' column\n",
    "merged_df = pd.merge(fcst_df, eval_df, on='id')\n",
    "# Calculate the MAE between the 'TimeGPT' and 'estimate_q' columns\n",
    "mae = mean_absolute_error(merged_df['TimeGPT'], merged_df['estimate_q'])\n",
    "\n",
    "print(f\"The Mean Absolute Error (MAE) is: {mae}\")"
   ]
  },
  {
   "cell_type": "code",
   "execution_count": 4,
   "metadata": {},
   "outputs": [
    {
     "name": "stdout",
     "output_type": "stream",
     "text": [
      "(439298, 2)\n",
      "Updated eval_df has been saved to ./data/submission_0514_03.csv.\n"
     ]
    }
   ],
   "source": [
    "eval_file = './data/loop_sensor_test_baseline.csv'\n",
    "eval_df = pd.read_csv(eval_file)\n",
    "file_saved = './data/submission_0514_03.csv'\n",
    "# Merge the DataFrames on 'id' and update 'estimate_q' in eval_df\n",
    "merged_df = eval_df.merge(fcst_df[['id', 'TimeGPT']], on='id', how='left')\n",
    "\n",
    "# Update 'estimate_q' where 'TimeGPT' is available\n",
    "merged_df['estimate_q'] = merged_df['TimeGPT'].combine_first(merged_df['estimate_q'])\n",
    "\n",
    "# Drop the 'TimeGPT' column as it's no longer needed\n",
    "merged_df.drop(columns=['TimeGPT'], inplace=True)\n",
    "print(merged_df.shape)\n",
    "# Save the modified eval_df to a new CSV file\n",
    "merged_df.to_csv(file_saved, index=False)\n",
    "\n",
    "print(f\"Updated eval_df has been saved to {file_saved}.\")\n"
   ]
  }
 ],
 "metadata": {
  "kernelspec": {
   "display_name": "traffic",
   "language": "python",
   "name": "python3"
  },
  "language_info": {
   "codemirror_mode": {
    "name": "ipython",
    "version": 3
   },
   "file_extension": ".py",
   "mimetype": "text/x-python",
   "name": "python",
   "nbconvert_exporter": "python",
   "pygments_lexer": "ipython3",
   "version": "3.9.19"
  }
 },
 "nbformat": 4,
 "nbformat_minor": 2
}
