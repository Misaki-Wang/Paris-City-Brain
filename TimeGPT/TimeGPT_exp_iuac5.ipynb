{
 "cells": [
  {
   "cell_type": "code",
   "execution_count": 19,
   "metadata": {},
   "outputs": [],
   "source": [
    "from nixtla import NixtlaClient\n",
    "import pandas as pd"
   ]
  },
  {
   "cell_type": "code",
   "execution_count": 20,
   "metadata": {},
   "outputs": [
    {
     "name": "stderr",
     "output_type": "stream",
     "text": [
      "INFO:nixtla.nixtla_client:Happy Forecasting! :), If you have questions or need support, please email ops@nixtla.io\n"
     ]
    },
    {
     "data": {
      "text/plain": [
       "True"
      ]
     },
     "execution_count": 20,
     "metadata": {},
     "output_type": "execute_result"
    }
   ],
   "source": [
    "nixtla_client = NixtlaClient(\n",
    "    api_key = 'nixtla-tok-WgE8MEuLXfee5pzkScwGhD0FkGhMcM2TF9HlmyBdsYqkRdznaQHgMyd1t4PIWfo8TLhZkF9NRKm65GKL'\n",
    ")\n",
    "nixtla_client.validate_api_key()"
   ]
  },
  {
   "cell_type": "code",
   "execution_count": 21,
   "metadata": {},
   "outputs": [
    {
     "data": {
      "text/html": [
       "<div>\n",
       "<style scoped>\n",
       "    .dataframe tbody tr th:only-of-type {\n",
       "        vertical-align: middle;\n",
       "    }\n",
       "\n",
       "    .dataframe tbody tr th {\n",
       "        vertical-align: top;\n",
       "    }\n",
       "\n",
       "    .dataframe thead th {\n",
       "        text-align: right;\n",
       "    }\n",
       "</style>\n",
       "<table border=\"1\" class=\"dataframe\">\n",
       "  <thead>\n",
       "    <tr style=\"text-align: right;\">\n",
       "      <th></th>\n",
       "      <th>iu_ac</th>\n",
       "      <th>t_1h</th>\n",
       "      <th>etat_barre</th>\n",
       "      <th>q</th>\n",
       "    </tr>\n",
       "  </thead>\n",
       "  <tbody>\n",
       "    <tr>\n",
       "      <th>0</th>\n",
       "      <td>5</td>\n",
       "      <td>2022-01-01 00:00:00</td>\n",
       "      <td>3</td>\n",
       "      <td>1068.0</td>\n",
       "    </tr>\n",
       "    <tr>\n",
       "      <th>1</th>\n",
       "      <td>5</td>\n",
       "      <td>2022-01-01 01:00:00</td>\n",
       "      <td>3</td>\n",
       "      <td>1462.0</td>\n",
       "    </tr>\n",
       "    <tr>\n",
       "      <th>2</th>\n",
       "      <td>5</td>\n",
       "      <td>2022-01-01 02:00:00</td>\n",
       "      <td>3</td>\n",
       "      <td>1467.0</td>\n",
       "    </tr>\n",
       "    <tr>\n",
       "      <th>3</th>\n",
       "      <td>5</td>\n",
       "      <td>2022-01-01 03:00:00</td>\n",
       "      <td>3</td>\n",
       "      <td>1505.0</td>\n",
       "    </tr>\n",
       "    <tr>\n",
       "      <th>4</th>\n",
       "      <td>5</td>\n",
       "      <td>2022-01-01 04:00:00</td>\n",
       "      <td>3</td>\n",
       "      <td>1359.0</td>\n",
       "    </tr>\n",
       "  </tbody>\n",
       "</table>\n",
       "</div>"
      ],
      "text/plain": [
       "   iu_ac                 t_1h  etat_barre       q\n",
       "0      5  2022-01-01 00:00:00           3  1068.0\n",
       "1      5  2022-01-01 01:00:00           3  1462.0\n",
       "2      5  2022-01-01 02:00:00           3  1467.0\n",
       "3      5  2022-01-01 03:00:00           3  1505.0\n",
       "4      5  2022-01-01 04:00:00           3  1359.0"
      ]
     },
     "execution_count": 21,
     "metadata": {},
     "output_type": "execute_result"
    }
   ],
   "source": [
    "df = pd.read_csv('./data/5_2022_1_2022_12.csv')\n",
    "eval_df = pd.read_csv('./data/5_2022_1_2022_12.csv')\n",
    "df = df[(df['iu_ac'] == 5) & (df['t_1h'] >= '2022-01-01') & (df['t_1h'] <= '2022-11-31')]\n",
    "df.head()"
   ]
  },
  {
   "cell_type": "code",
   "execution_count": 24,
   "metadata": {},
   "outputs": [],
   "source": [
    "def convert_TimeGPT_to_q(timegpt_fcst_df):\n",
    "    timegpt_fcst_df = timegpt_fcst_df.rename(columns={'TimeGPT': 'q'})\n",
    "    print(timegpt_fcst_df.shape)\n",
    "    return timegpt_fcst_df\n"
   ]
  },
  {
   "cell_type": "code",
   "execution_count": 38,
   "metadata": {},
   "outputs": [
    {
     "name": "stderr",
     "output_type": "stream",
     "text": [
      "INFO:nixtla.nixtla_client:Validating inputs...\n",
      "INFO:nixtla.nixtla_client:Preprocessing dataframes...\n",
      "WARNING:nixtla.nixtla_client:The specified horizon \"h\" exceeds the model horizon. This may lead to less accurate forecasts. Please consider using a smaller horizon.\n",
      "INFO:nixtla.nixtla_client:Calling Forecast Endpoint...\n"
     ]
    },
    {
     "data": {
      "text/html": [
       "<div>\n",
       "<style scoped>\n",
       "    .dataframe tbody tr th:only-of-type {\n",
       "        vertical-align: middle;\n",
       "    }\n",
       "\n",
       "    .dataframe tbody tr th {\n",
       "        vertical-align: top;\n",
       "    }\n",
       "\n",
       "    .dataframe thead th {\n",
       "        text-align: right;\n",
       "    }\n",
       "</style>\n",
       "<table border=\"1\" class=\"dataframe\">\n",
       "  <thead>\n",
       "    <tr style=\"text-align: right;\">\n",
       "      <th></th>\n",
       "      <th>t_1h</th>\n",
       "      <th>TimeGPT</th>\n",
       "    </tr>\n",
       "  </thead>\n",
       "  <tbody>\n",
       "    <tr>\n",
       "      <th>0</th>\n",
       "      <td>2022-12-01 00:00:00</td>\n",
       "      <td>1644.328003</td>\n",
       "    </tr>\n",
       "    <tr>\n",
       "      <th>1</th>\n",
       "      <td>2022-12-01 01:00:00</td>\n",
       "      <td>1403.700684</td>\n",
       "    </tr>\n",
       "    <tr>\n",
       "      <th>2</th>\n",
       "      <td>2022-12-01 02:00:00</td>\n",
       "      <td>1028.282104</td>\n",
       "    </tr>\n",
       "    <tr>\n",
       "      <th>3</th>\n",
       "      <td>2022-12-01 03:00:00</td>\n",
       "      <td>722.328735</td>\n",
       "    </tr>\n",
       "    <tr>\n",
       "      <th>4</th>\n",
       "      <td>2022-12-01 04:00:00</td>\n",
       "      <td>451.141022</td>\n",
       "    </tr>\n",
       "  </tbody>\n",
       "</table>\n",
       "</div>"
      ],
      "text/plain": [
       "                  t_1h      TimeGPT\n",
       "0  2022-12-01 00:00:00  1644.328003\n",
       "1  2022-12-01 01:00:00  1403.700684\n",
       "2  2022-12-01 02:00:00  1028.282104\n",
       "3  2022-12-01 03:00:00   722.328735\n",
       "4  2022-12-01 04:00:00   451.141022"
      ]
     },
     "execution_count": 38,
     "metadata": {},
     "output_type": "execute_result"
    }
   ],
   "source": [
    "timegpt_fcst_df = nixtla_client.forecast(\n",
    "    df=df, \n",
    "    # h=31*24,\n",
    "    h = 31*24,\n",
    "    finetune_steps=100,\n",
    "    finetune_loss='mae',   \n",
    "    freq='h', \n",
    "    time_col='t_1h', \n",
    "    target_col='q', \n",
    "    model='timegpt-1-long-horizon'\n",
    ")\n",
    "timegpt_fcst_df.head()"
   ]
  },
  {
   "cell_type": "code",
   "execution_count": 32,
   "metadata": {},
   "outputs": [
    {
     "name": "stderr",
     "output_type": "stream",
     "text": [
      "INFO:nixtla.nixtla_client:Validating inputs...\n",
      "INFO:nixtla.nixtla_client:Preprocessing dataframes...\n",
      "/media/ssd4t/anaconda3/envs/traffic/lib/python3.9/site-packages/utilsforecast/preprocessing.py:126: FutureWarning: 'H' is deprecated and will be removed in a future version, please use 'h' instead.\n",
      "  offset = pd.tseries.frequencies.to_offset(freq)\n",
      "INFO:nixtla.nixtla_client:Restricting input...\n",
      "INFO:nixtla.nixtla_client:Calling Forecast Endpoint...\n"
     ]
    },
    {
     "data": {
      "text/html": [
       "<div>\n",
       "<style scoped>\n",
       "    .dataframe tbody tr th:only-of-type {\n",
       "        vertical-align: middle;\n",
       "    }\n",
       "\n",
       "    .dataframe tbody tr th {\n",
       "        vertical-align: top;\n",
       "    }\n",
       "\n",
       "    .dataframe thead th {\n",
       "        text-align: right;\n",
       "    }\n",
       "</style>\n",
       "<table border=\"1\" class=\"dataframe\">\n",
       "  <thead>\n",
       "    <tr style=\"text-align: right;\">\n",
       "      <th></th>\n",
       "      <th>t_1h</th>\n",
       "      <th>TimeGPT</th>\n",
       "    </tr>\n",
       "  </thead>\n",
       "  <tbody>\n",
       "    <tr>\n",
       "      <th>0</th>\n",
       "      <td>2022-12-01 00:00:00</td>\n",
       "      <td>1585.660889</td>\n",
       "    </tr>\n",
       "    <tr>\n",
       "      <th>1</th>\n",
       "      <td>2022-12-01 01:00:00</td>\n",
       "      <td>1312.476074</td>\n",
       "    </tr>\n",
       "    <tr>\n",
       "      <th>2</th>\n",
       "      <td>2022-12-01 02:00:00</td>\n",
       "      <td>966.434937</td>\n",
       "    </tr>\n",
       "    <tr>\n",
       "      <th>3</th>\n",
       "      <td>2022-12-01 03:00:00</td>\n",
       "      <td>699.152832</td>\n",
       "    </tr>\n",
       "    <tr>\n",
       "      <th>4</th>\n",
       "      <td>2022-12-01 04:00:00</td>\n",
       "      <td>492.858063</td>\n",
       "    </tr>\n",
       "  </tbody>\n",
       "</table>\n",
       "</div>"
      ],
      "text/plain": [
       "                  t_1h      TimeGPT\n",
       "0  2022-12-01 00:00:00  1585.660889\n",
       "1  2022-12-01 01:00:00  1312.476074\n",
       "2  2022-12-01 02:00:00   966.434937\n",
       "3  2022-12-01 03:00:00   699.152832\n",
       "4  2022-12-01 04:00:00   492.858063"
      ]
     },
     "execution_count": 32,
     "metadata": {},
     "output_type": "execute_result"
    }
   ],
   "source": [
    "# timegpt_fcst_df = nixtla_client.forecast(\n",
    "#     df=df, \n",
    "#     h=7*24, \n",
    "#     freq='H', \n",
    "#     time_col='t_1h', \n",
    "#     target_col='q', \n",
    "#     model='timegpt-1-long-horizon')\n",
    "# timegpt_fcst_df.head()"
   ]
  },
  {
   "cell_type": "code",
   "execution_count": 39,
   "metadata": {},
   "outputs": [
    {
     "name": "stdout",
     "output_type": "stream",
     "text": [
      "(744, 2)\n",
      "Mean Absolute Error (MAE): 110.85792295394405\n"
     ]
    }
   ],
   "source": [
    "from sklearn.metrics import mean_absolute_error\n",
    "\n",
    "def mae_cal(timegpt_fcst_df, eval_df):\n",
    "    timegpt_fcst_df = convert_TimeGPT_to_q(timegpt_fcst_df)\n",
    "    # 将 t_1h 列转换为日期时间格式\n",
    "    timegpt_fcst_df['t_1h'] = pd.to_datetime(timegpt_fcst_df['t_1h'])\n",
    "    eval_df['t_1h'] = pd.to_datetime(eval_df['t_1h'])\n",
    "    # 合并两个数据框，确保在 t_1h 列上对齐\n",
    "    merged_df = pd.merge(timegpt_fcst_df, eval_df, on='t_1h', suffixes=('_timegpt', '_eval'))\n",
    "    # print(merged_df.head())\n",
    "    # 计算 MAE\n",
    "    mae = mean_absolute_error(merged_df['q_eval'], merged_df['q_timegpt'])\n",
    "    print(f\"Mean Absolute Error (MAE): {mae}\")\n",
    "    \n",
    "# nixtla_client.plot(df, timegpt_fcst_df, time_col='t_1h', target_col='q')\n",
    "mae_cal(timegpt_fcst_df, eval_df)"
   ]
  }
 ],
 "metadata": {
  "kernelspec": {
   "display_name": "traffic",
   "language": "python",
   "name": "python3"
  },
  "language_info": {
   "codemirror_mode": {
    "name": "ipython",
    "version": 3
   },
   "file_extension": ".py",
   "mimetype": "text/x-python",
   "name": "python",
   "nbconvert_exporter": "python",
   "pygments_lexer": "ipython3",
   "version": "3.9.19"
  }
 },
 "nbformat": 4,
 "nbformat_minor": 2
}
