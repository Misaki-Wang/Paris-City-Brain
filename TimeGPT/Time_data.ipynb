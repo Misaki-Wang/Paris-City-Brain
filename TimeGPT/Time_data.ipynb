{
 "cells": [
  {
   "cell_type": "code",
   "execution_count": 1,
   "metadata": {},
   "outputs": [],
   "source": [
    "import pandas as pd\n"
   ]
  },
  {
   "cell_type": "code",
   "execution_count": 2,
   "metadata": {},
   "outputs": [],
   "source": [
    "# 读取CSV文件\n",
    "df = pd.read_csv('/media/ssd4t/misaki/Paris-City-Brain-Traffic-Flow-Forecasting/data/loop_sensor_train.csv')\n"
   ]
  },
  {
   "cell_type": "code",
   "execution_count": 11,
   "metadata": {},
   "outputs": [
    {
     "data": {
      "text/html": [
       "<div>\n",
       "<style scoped>\n",
       "    .dataframe tbody tr th:only-of-type {\n",
       "        vertical-align: middle;\n",
       "    }\n",
       "\n",
       "    .dataframe tbody tr th {\n",
       "        vertical-align: top;\n",
       "    }\n",
       "\n",
       "    .dataframe thead th {\n",
       "        text-align: right;\n",
       "    }\n",
       "</style>\n",
       "<table border=\"1\" class=\"dataframe\">\n",
       "  <thead>\n",
       "    <tr style=\"text-align: right;\">\n",
       "      <th></th>\n",
       "      <th>iu_ac</th>\n",
       "      <th>t_1h</th>\n",
       "      <th>etat_barre</th>\n",
       "      <th>q</th>\n",
       "    </tr>\n",
       "  </thead>\n",
       "  <tbody>\n",
       "    <tr>\n",
       "      <th>22468145</th>\n",
       "      <td>5</td>\n",
       "      <td>2022-12-20 19:00:00</td>\n",
       "      <td>3</td>\n",
       "      <td>1537.0</td>\n",
       "    </tr>\n",
       "    <tr>\n",
       "      <th>22468146</th>\n",
       "      <td>5</td>\n",
       "      <td>2022-12-20 20:00:00</td>\n",
       "      <td>3</td>\n",
       "      <td>1541.0</td>\n",
       "    </tr>\n",
       "    <tr>\n",
       "      <th>22468147</th>\n",
       "      <td>5</td>\n",
       "      <td>2022-12-20 21:00:00</td>\n",
       "      <td>3</td>\n",
       "      <td>1656.0</td>\n",
       "    </tr>\n",
       "    <tr>\n",
       "      <th>22468148</th>\n",
       "      <td>5</td>\n",
       "      <td>2022-12-20 22:00:00</td>\n",
       "      <td>3</td>\n",
       "      <td>1472.0</td>\n",
       "    </tr>\n",
       "    <tr>\n",
       "      <th>22468149</th>\n",
       "      <td>5</td>\n",
       "      <td>2022-12-20 23:00:00</td>\n",
       "      <td>3</td>\n",
       "      <td>1373.0</td>\n",
       "    </tr>\n",
       "  </tbody>\n",
       "</table>\n",
       "</div>"
      ],
      "text/plain": [
       "          iu_ac                 t_1h  etat_barre       q\n",
       "22468145      5  2022-12-20 19:00:00           3  1537.0\n",
       "22468146      5  2022-12-20 20:00:00           3  1541.0\n",
       "22468147      5  2022-12-20 21:00:00           3  1656.0\n",
       "22468148      5  2022-12-20 22:00:00           3  1472.0\n",
       "22468149      5  2022-12-20 23:00:00           3  1373.0"
      ]
     },
     "execution_count": 11,
     "metadata": {},
     "output_type": "execute_result"
    }
   ],
   "source": [
    "# 过滤出iu_ac为5且t_1h在2022-01-01到2022-12-31之间的数据\n",
    "filtered_df = df[(df['iu_ac'] == 5) & (df['t_1h'] >= '2022-01-01') & (df['t_1h'] <= '2022-12-31')]\n",
    "filtered_df.tail()"
   ]
  },
  {
   "cell_type": "code",
   "execution_count": 4,
   "metadata": {},
   "outputs": [
    {
     "data": {
      "text/plain": [
       "(7752, 4)"
      ]
     },
     "execution_count": 4,
     "metadata": {},
     "output_type": "execute_result"
    }
   ],
   "source": [
    "filtered_df.shape"
   ]
  },
  {
   "cell_type": "code",
   "execution_count": 5,
   "metadata": {},
   "outputs": [],
   "source": [
    "import os\n",
    "if not os.path.exists('data'):\n",
    "    os.mkdir('data')"
   ]
  },
  {
   "cell_type": "code",
   "execution_count": 6,
   "metadata": {},
   "outputs": [],
   "source": [
    "# 保存为新的CSV文件2022-12-31之间的数据\n",
    "filtered_df.to_csv('./data/5_2022_1_2022_12.csv', index=False)\n"
   ]
  },
  {
   "cell_type": "code",
   "execution_count": 13,
   "metadata": {},
   "outputs": [
    {
     "data": {
      "text/plain": [
       "(716, 4)"
      ]
     },
     "execution_count": 13,
     "metadata": {},
     "output_type": "execute_result"
    }
   ],
   "source": [
    "filtered_df_1 = df[(df['iu_ac'] == 5) & (df['t_1h'] >= '2022-01-01') & (df['t_1h'] <= '2022-01-31')]\n",
    "filtered_df_1.shape"
   ]
  },
  {
   "cell_type": "code",
   "execution_count": 14,
   "metadata": {},
   "outputs": [],
   "source": [
    "filtered_df_1.to_csv('./data/5_2022_1.csv', index=False)"
   ]
  },
  {
   "cell_type": "code",
   "execution_count": 15,
   "metadata": {},
   "outputs": [
    {
     "data": {
      "text/plain": [
       "(643, 4)"
      ]
     },
     "execution_count": 15,
     "metadata": {},
     "output_type": "execute_result"
    }
   ],
   "source": [
    "filtered_df_2 = df[(df['iu_ac'] == 5) & (df['t_1h'] >= '2022-02-01') & (df['t_1h'] <= '2022-02-28')]\n",
    "filtered_df_2.shape"
   ]
  },
  {
   "cell_type": "code",
   "execution_count": 16,
   "metadata": {},
   "outputs": [],
   "source": [
    "filtered_df_2.to_csv('./data/5_2022_2.csv', index=False)"
   ]
  }
 ],
 "metadata": {
  "kernelspec": {
   "display_name": "traffic",
   "language": "python",
   "name": "python3"
  },
  "language_info": {
   "codemirror_mode": {
    "name": "ipython",
    "version": 3
   },
   "file_extension": ".py",
   "mimetype": "text/x-python",
   "name": "python",
   "nbconvert_exporter": "python",
   "pygments_lexer": "ipython3",
   "version": "3.9.19"
  }
 },
 "nbformat": 4,
 "nbformat_minor": 2
}
